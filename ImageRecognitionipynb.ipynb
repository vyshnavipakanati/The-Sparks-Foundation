{
  "nbformat": 4,
  "nbformat_minor": 0,
  "metadata": {
    "colab": {
      "name": "ImageRecognitionipynb",
      "provenance": [],
      "authorship_tag": "ABX9TyM2MIqn4iQTVE588bQUVI9f",
      "include_colab_link": true
    },
    "kernelspec": {
      "name": "python3",
      "display_name": "Python 3"
    },
    "language_info": {
      "name": "python"
    }
  },
  "cells": [
    {
      "cell_type": "markdown",
      "metadata": {
        "id": "view-in-github",
        "colab_type": "text"
      },
      "source": [
        "<a href=\"https://colab.research.google.com/github/vyshnavipakanati/The-Sparks-Foundation/blob/main/ImageRecognitionipynb.ipynb\" target=\"_parent\"><img src=\"https://colab.research.google.com/assets/colab-badge.svg\" alt=\"Open In Colab\"/></a>"
      ]
    },
    {
      "cell_type": "code",
      "metadata": {
        "colab": {
          "base_uri": "https://localhost:8080/",
          "height": 1000
        },
        "id": "RQfkL7lJ02m7",
        "outputId": "8bda29e7-5ceb-44f8-e65e-dbe7a4faefe5"
      },
      "source": [
        "#importing the libraries \n",
        "import matplotlib.pyplot as plt \n",
        "import cv2\n",
        "\n",
        "#uploading the cascade classifier html file\n",
        "face_cascade=cv2.CascadeClassifier(\"haarcascade_frontalface_default.xml\")\n",
        "img=cv2.imread(\"/content/rose.jpg\")\n",
        "def face(filepath):\n",
        "  #read image\n",
        "  img=cv2.imread(\"/content/rose.jpg\")\n",
        "  print(\"---Picture details---\",filepath) \n",
        "  print(\"Original picture size : \", img.size) \n",
        "  print(\"Original Dimensions : \", img.shape) \n",
        "  print(\"\")\n",
        "\n",
        "#resizing properties\n",
        "scale_percent = 60 \n",
        "# percent of original size \n",
        "width = int(img.shape[1] * scale_percent / 100) \n",
        "height = int(img.shape[0] * scale_percent / 100) \n",
        "dim = (width, height)\n",
        "resized = cv2.resize(img, dim, interpolation = cv2.INTER_AREA)\n",
        "print(\"Resized picture size : \",resized.size)\n",
        "print(\"Resized Dimensions : \", resized.shape) \n",
        "print(\"\")\n",
        "\n",
        "\n",
        "#image properties- histogram RGB\n",
        "image=plt.imread(\"/content/rose.jpg\") \n",
        "red = image[:, :, 0]\n",
        "green = image[:, :, 1]\n",
        "blue = image[:, :, 2]\n",
        " \n",
        "#red\n",
        "plt.hist(red.ravel(), bins=256,color=\"r\")\n",
        "plt.title('Red Histogram')\n",
        "plt.show()\n",
        "\n",
        "#green\n",
        "plt.hist(green.ravel(), bins=256,color=\"g\") \n",
        "plt.title('Green Histogram')\n",
        "plt.show()\n",
        "\n",
        "#blue\n",
        "plt.hist(blue.ravel(), bins=256,color=\"b\")\n",
        "plt.title('Blue Histogram')\n",
        "plt.show()\n",
        "\n",
        "\n",
        "#face recognization and framing faces \n",
        "cv2.imshow(\"Original\",resized) \n",
        "gray_img=cv2.cvtColor(resized,cv2.COLOR_BGR2GRAY) \n",
        "cv2.imshow(\"Grayscaled Image\",gray_img)\n",
        "faces=face_cascade.detectMultiScale(gray_img,scaleFactor=1.1,minNeighbors=4) \n",
        "for (x,y,w,h) in faces:\n",
        "  cv2.rectangle(resized,(x,y),(x+w,y+h),(0,0,255),thickness=2) \n",
        "  cv2.imshow(\"Output Image\",resized)\n",
        "  cv2.waitKey()\n",
        "\n",
        "#input the image file\n",
        "face(\"img3.jpg\")\n",
        "\n",
        "\n"
      ],
      "execution_count": 22,
      "outputs": [
        {
          "output_type": "stream",
          "name": "stdout",
          "text": [
            "Resized picture size :  3442176\n",
            "Resized Dimensions :  (864, 1328, 3)\n",
            "\n"
          ]
        },
        {
          "output_type": "display_data",
          "data": {
            "image/png": "[encoded data removed]",
            "text/plain": [
              "<Figure size 432x288 with 1 Axes>"
            ]
          },
          "metadata": {
            "needs_background": "light"
          }
        },
        {
          "output_type": "display_data",
          "data": {
            "image/png": "[encoded data removed]",
            "text/plain": [
              "<Figure size 432x288 with 1 Axes>"
            ]
          },
          "metadata": {
            "needs_background": "light"
          }
        },
        {
          "output_type": "display_data",
          "data": {
            "image/png": "[encoded data removed]",
            "text/plain": [
              "<Figure size 432x288 with 1 Axes>"
            ]
          },
          "metadata": {
            "needs_background": "light"
          }
        },
        {
          "output_type": "error",
          "ename": "DisabledFunctionError",
          "evalue": "ignored",
          "traceback": [
            "\u001b[0;31m---------------------------------------------------------------------------\u001b[0m",
            "\u001b[0;31mDisabledFunctionError\u001b[0m                     Traceback (most recent call last)",
            "\u001b[0;32m<ipython-input-22-019372759238>\u001b[0m in \u001b[0;36m<module>\u001b[0;34m()\u001b[0m\n\u001b[1;32m     49\u001b[0m \u001b[0;34m\u001b[0m\u001b[0m\n\u001b[1;32m     50\u001b[0m \u001b[0;31m#face recognization and framing faces\u001b[0m\u001b[0;34m\u001b[0m\u001b[0;34m\u001b[0m\u001b[0;34m\u001b[0m\u001b[0m\n\u001b[0;32m---> 51\u001b[0;31m \u001b[0mcv2\u001b[0m\u001b[0;34m.\u001b[0m\u001b[0mimshow\u001b[0m\u001b[0;34m(\u001b[0m\u001b[0;34m\"Original\"\u001b[0m\u001b[0;34m,\u001b[0m\u001b[0mresized\u001b[0m\u001b[0;34m)\u001b[0m\u001b[0;34m\u001b[0m\u001b[0;34m\u001b[0m\u001b[0m\n\u001b[0m\u001b[1;32m     52\u001b[0m \u001b[0mgray_img\u001b[0m\u001b[0;34m=\u001b[0m\u001b[0mcv2\u001b[0m\u001b[0;34m.\u001b[0m\u001b[0mcvtColor\u001b[0m\u001b[0;34m(\u001b[0m\u001b[0mresized\u001b[0m\u001b[0;34m,\u001b[0m\u001b[0mcv2\u001b[0m\u001b[0;34m.\u001b[0m\u001b[0mCOLOR_BGR2GRAY\u001b[0m\u001b[0;34m)\u001b[0m\u001b[0;34m\u001b[0m\u001b[0;34m\u001b[0m\u001b[0m\n\u001b[1;32m     53\u001b[0m \u001b[0mcv2\u001b[0m\u001b[0;34m.\u001b[0m\u001b[0mimshow\u001b[0m\u001b[0;34m(\u001b[0m\u001b[0;34m\"Grayscaled Image\"\u001b[0m\u001b[0;34m,\u001b[0m\u001b[0mgray_img\u001b[0m\u001b[0;34m)\u001b[0m\u001b[0;34m\u001b[0m\u001b[0;34m\u001b[0m\u001b[0m\n",
            "\u001b[0;32m/usr/local/lib/python3.7/dist-packages/google/colab/_import_hooks/_cv2.py\u001b[0m in \u001b[0;36mwrapped\u001b[0;34m(*args, **kwargs)\u001b[0m\n\u001b[1;32m     50\u001b[0m   \u001b[0;32mdef\u001b[0m \u001b[0mwrapped\u001b[0m\u001b[0;34m(\u001b[0m\u001b[0;34m*\u001b[0m\u001b[0margs\u001b[0m\u001b[0;34m,\u001b[0m \u001b[0;34m**\u001b[0m\u001b[0mkwargs\u001b[0m\u001b[0;34m)\u001b[0m\u001b[0;34m:\u001b[0m\u001b[0;34m\u001b[0m\u001b[0;34m\u001b[0m\u001b[0m\n\u001b[1;32m     51\u001b[0m     \u001b[0;32mif\u001b[0m \u001b[0;32mnot\u001b[0m \u001b[0mos\u001b[0m\u001b[0;34m.\u001b[0m\u001b[0menviron\u001b[0m\u001b[0;34m.\u001b[0m\u001b[0mget\u001b[0m\u001b[0;34m(\u001b[0m\u001b[0menv_var\u001b[0m\u001b[0;34m,\u001b[0m \u001b[0;32mFalse\u001b[0m\u001b[0;34m)\u001b[0m\u001b[0;34m:\u001b[0m\u001b[0;34m\u001b[0m\u001b[0;34m\u001b[0m\u001b[0m\n\u001b[0;32m---> 52\u001b[0;31m       \u001b[0;32mraise\u001b[0m \u001b[0mDisabledFunctionError\u001b[0m\u001b[0;34m(\u001b[0m\u001b[0mmessage\u001b[0m\u001b[0;34m,\u001b[0m \u001b[0mname\u001b[0m \u001b[0;32mor\u001b[0m \u001b[0mfunc\u001b[0m\u001b[0;34m.\u001b[0m\u001b[0m__name__\u001b[0m\u001b[0;34m)\u001b[0m\u001b[0;34m\u001b[0m\u001b[0;34m\u001b[0m\u001b[0m\n\u001b[0m\u001b[1;32m     53\u001b[0m     \u001b[0;32mreturn\u001b[0m \u001b[0mfunc\u001b[0m\u001b[0;34m(\u001b[0m\u001b[0;34m*\u001b[0m\u001b[0margs\u001b[0m\u001b[0;34m,\u001b[0m \u001b[0;34m**\u001b[0m\u001b[0mkwargs\u001b[0m\u001b[0;34m)\u001b[0m\u001b[0;34m\u001b[0m\u001b[0;34m\u001b[0m\u001b[0m\n\u001b[1;32m     54\u001b[0m \u001b[0;34m\u001b[0m\u001b[0m\n",
            "\u001b[0;31mDisabledFunctionError\u001b[0m: cv2.imshow() is disabled in Colab, because it causes Jupyter sessions\nto crash; see https://github.com/jupyter/notebook/issues/3935.\nAs a substitution, consider using\n  from google.colab.patches import cv2_imshow\n"
          ],
          "errorDetails": {
            "actions": [
              {
                "action": "open_snippet",
                "actionText": "Search Snippets for cv2.imshow",
                "snippetFilter": "cv2.imshow"
              }
            ]
          }
        }
      ]
    },
    {
      "cell_type": "code",
      "metadata": {
        "id": "OOVNBrli2yAW"
      },
      "source": [
        ""
      ],
      "execution_count": null,
      "outputs": []
    }
  ]
}